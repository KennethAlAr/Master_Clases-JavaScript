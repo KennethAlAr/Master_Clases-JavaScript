{
 "cells": [
  {
   "cell_type": "markdown",
   "id": "fa1f12ff",
   "metadata": {},
   "source": [
    "### Tecnologías utilizadas\n",
    "- Jupyter Notebook\n",
    "- Markdown\n",
    "- Python"
   ]
  },
  {
   "cell_type": "code",
   "execution_count": 4,
   "id": "e29697b3",
   "metadata": {},
   "outputs": [
    {
     "name": "stdout",
     "output_type": "stream",
     "text": [
      "Hola mundo!\n"
     ]
    }
   ],
   "source": [
    "# Este es un script con salida \"Hola Mundo!\"\n",
    "print(\"Hola mundo!\")"
   ]
  },
  {
   "cell_type": "markdown",
   "id": "07baaaa9",
   "metadata": {},
   "source": [
    "### Esta es mi segunda ejecución con Python y Jupyter Notebook"
   ]
  },
  {
   "cell_type": "code",
   "execution_count": 2,
   "id": "b031bcb5",
   "metadata": {},
   "outputs": [
    {
     "name": "stdout",
     "output_type": "stream",
     "text": [
      "Adiós!\n"
     ]
    }
   ],
   "source": [
    "print(\"Adiós!\")"
   ]
  }
 ],
 "metadata": {
  "kernelspec": {
   "display_name": "base",
   "language": "python",
   "name": "python3"
  },
  "language_info": {
   "codemirror_mode": {
    "name": "ipython",
    "version": 3
   },
   "file_extension": ".py",
   "mimetype": "text/x-python",
   "name": "python",
   "nbconvert_exporter": "python",
   "pygments_lexer": "ipython3",
   "version": "3.12.7"
  }
 },
 "nbformat": 4,
 "nbformat_minor": 5
}
